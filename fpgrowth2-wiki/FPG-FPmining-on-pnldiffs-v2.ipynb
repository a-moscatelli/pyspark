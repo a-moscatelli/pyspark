{
 "cells": [
  {
   "cell_type": "markdown",
   "id": "22cca1d7-d0b2-44b2-b145-585826651a94",
   "metadata": {},
   "source": [
    "### create SparkSession "
   ]
  },
  {
   "cell_type": "code",
   "execution_count": 1,
   "id": "0ebdc416-f06b-4b7b-8839-5ecf8a311aff",
   "metadata": {
    "tags": []
   },
   "outputs": [
    {
     "data": {
      "text/html": [
       "\n",
       "            <div>\n",
       "                <p><b>SparkSession - in-memory</b></p>\n",
       "                \n",
       "        <div>\n",
       "            <p><b>SparkContext</b></p>\n",
       "\n",
       "            <p><a href=\"http://eb45dd3c5e04:4040\">Spark UI</a></p>\n",
       "\n",
       "            <dl>\n",
       "              <dt>Version</dt>\n",
       "                <dd><code>v3.4.0</code></dd>\n",
       "              <dt>Master</dt>\n",
       "                <dd><code>local[*]</code></dd>\n",
       "              <dt>AppName</dt>\n",
       "                <dd><code>market_basket_assoc</code></dd>\n",
       "            </dl>\n",
       "        </div>\n",
       "        \n",
       "            </div>\n",
       "        "
      ],
      "text/plain": [
       "<pyspark.sql.session.SparkSession at 0x7f6d86b23d30>"
      ]
     },
     "execution_count": 1,
     "metadata": {},
     "output_type": "execute_result"
    }
   ],
   "source": [
    "import pyspark\n",
    "from pyspark.sql import SparkSession\n",
    "spark = SparkSession.builder.appName(\"market_basket_assoc\").getOrCreate() \n",
    "spark"
   ]
  },
  {
   "cell_type": "markdown",
   "id": "be0d6e5f-e4d1-4df7-8874-e98993b3744a",
   "metadata": {},
   "source": [
    "### util functions and display settings"
   ]
  },
  {
   "cell_type": "code",
   "execution_count": 2,
   "id": "23d0e75f-8c8e-4413-996b-96e26414bd28",
   "metadata": {
    "tags": []
   },
   "outputs": [],
   "source": [
    "\n",
    "####\n",
    "\n",
    "from datetime import datetime\n",
    "from pytz import timezone\n",
    "####\n",
    "from pyspark.ml.feature import VectorAssembler\n",
    "from pyspark.sql.types import * \n",
    "from pyspark.sql.functions import *\n",
    "from pyspark.ml.feature import StringIndexer\n",
    "from pyspark.ml.feature import MinMaxScaler\n",
    "####\n",
    "\n",
    "def print_now():\n",
    "    #from datetime import datetime\n",
    "    #from pytz import timezone\n",
    "    \n",
    "    format = \"%Y-%m-%d %H:%M:%S %Z%z\"\n",
    "    now_utc = datetime.now(timezone('UTC'))\n",
    "    SGT =  timezone('Asia/Singapore')\n",
    "    now_local = now_utc.astimezone(SGT)\n",
    "    print(now_local.strftime(format))\n",
    "\n",
    "    \n",
    "def load_csv(name):\n",
    "    path = \"./\"\n",
    "    # Some csv data\n",
    "    pnl = spark.read.csv(path+name,inferSchema=True,header=True)\n",
    "    return pnl\n",
    "\n",
    "def show_stats(df,input_columns,dependent_var):\n",
    "    print('just some stats on distributions')\n",
    "    df.groupBy(dependent_var).count().show()\n",
    "    df.groupBy(input_columns).count().show()\n",
    "\n"
   ]
  },
  {
   "cell_type": "code",
   "execution_count": 3,
   "id": "e5748fef-b3d0-4d6a-b9f9-4c4d014b923f",
   "metadata": {
    "tags": []
   },
   "outputs": [],
   "source": [
    "import pandas as pd\n",
    "pd.options.display.max_rows = None\n",
    "pd.options.display.max_columns = None \n",
    "pd.options.display.max_colwidth = None\n",
    "pd.options.display.float_format = lambda x: '{:,.2f}'.format(x)"
   ]
  },
  {
   "cell_type": "code",
   "execution_count": 4,
   "id": "e4aa7df7-2bc0-41a6-84fc-3336e7314ab4",
   "metadata": {
    "tags": []
   },
   "outputs": [
    {
     "name": "stdout",
     "output_type": "stream",
     "text": [
      "2023-05-10 22:15:57 +08+0800\n"
     ]
    }
   ],
   "source": [
    "print_now()"
   ]
  },
  {
   "cell_type": "markdown",
   "id": "1bcc9665-f866-411c-8098-ed24d1b644d4",
   "metadata": {},
   "source": [
    "### loading the two csv files"
   ]
  },
  {
   "cell_type": "code",
   "execution_count": 5,
   "id": "73d372e7-cd43-419d-b490-69e3a339b48f",
   "metadata": {
    "tags": []
   },
   "outputs": [
    {
     "name": "stdout",
     "output_type": "stream",
     "text": [
      "2023-05-10 22:15:57 +08+0800\n"
     ]
    }
   ],
   "source": [
    "#rerunnable\n",
    "print_now()\n",
    "EOD= \"2023-05-06\"\n",
    "fname_v1 = \"fake-pnl-report.2023-05-06.csv\"\n",
    "fname_v2 = \"fake-pnl-report.2023-05-06.fabricated.csv\"\n",
    "pnl_v1 = load_csv(fname_v1)\n",
    "pnl_v2 = load_csv(fname_v2)\n"
   ]
  },
  {
   "cell_type": "code",
   "execution_count": 6,
   "id": "d3f3bd45-28c1-4d71-a1e4-f7765dd2f0f0",
   "metadata": {
    "tags": []
   },
   "outputs": [
    {
     "data": {
      "text/html": [
       "<div>\n",
       "<style scoped>\n",
       "    .dataframe tbody tr th:only-of-type {\n",
       "        vertical-align: middle;\n",
       "    }\n",
       "\n",
       "    .dataframe tbody tr th {\n",
       "        vertical-align: top;\n",
       "    }\n",
       "\n",
       "    .dataframe thead th {\n",
       "        text-align: right;\n",
       "    }\n",
       "</style>\n",
       "<table border=\"1\" class=\"dataframe\">\n",
       "  <thead>\n",
       "    <tr style=\"text-align: right;\">\n",
       "      <th></th>\n",
       "      <th>id</th>\n",
       "      <th>trade_date</th>\n",
       "      <th>exp_date</th>\n",
       "      <th>trader</th>\n",
       "      <th>trade_ccy</th>\n",
       "      <th>product</th>\n",
       "      <th>disc_curve</th>\n",
       "      <th>fx_cut</th>\n",
       "      <th>market</th>\n",
       "      <th>PnL_ccy</th>\n",
       "      <th>delim</th>\n",
       "      <th>uPnL</th>\n",
       "      <th>rPnL</th>\n",
       "      <th>PnL</th>\n",
       "    </tr>\n",
       "  </thead>\n",
       "  <tbody>\n",
       "    <tr>\n",
       "      <th>0</th>\n",
       "      <td>0</td>\n",
       "      <td>2023-05-04</td>\n",
       "      <td>2023-06-09</td>\n",
       "      <td>Shannon Byrd</td>\n",
       "      <td>USDALL</td>\n",
       "      <td>fx swap</td>\n",
       "      <td>USDALL-GE</td>\n",
       "      <td>TKY1500</td>\n",
       "      <td>GE</td>\n",
       "      <td>USD</td>\n",
       "      <td>:</td>\n",
       "      <td>-7,408,923.84</td>\n",
       "      <td>-1,466,436.87</td>\n",
       "      <td>-8,875,360.71</td>\n",
       "    </tr>\n",
       "    <tr>\n",
       "      <th>1</th>\n",
       "      <td>1</td>\n",
       "      <td>2023-05-14</td>\n",
       "      <td>2023-06-25</td>\n",
       "      <td>Ashley Wilson</td>\n",
       "      <td>USDBWP</td>\n",
       "      <td>fx spot</td>\n",
       "      <td>USDBWP-GM</td>\n",
       "      <td>TKY1500</td>\n",
       "      <td>GM</td>\n",
       "      <td>USD</td>\n",
       "      <td>:</td>\n",
       "      <td>-5,226,084.90</td>\n",
       "      <td>-8,085,982.90</td>\n",
       "      <td>-13,312,067.80</td>\n",
       "    </tr>\n",
       "    <tr>\n",
       "      <th>2</th>\n",
       "      <td>2</td>\n",
       "      <td>2023-04-29</td>\n",
       "      <td>2023-06-02</td>\n",
       "      <td>Jasmine Baker</td>\n",
       "      <td>USDFJD</td>\n",
       "      <td>fx spot</td>\n",
       "      <td>USDFJD-AG</td>\n",
       "      <td>NYC1000</td>\n",
       "      <td>AG</td>\n",
       "      <td>USD</td>\n",
       "      <td>:</td>\n",
       "      <td>6,394,191.51</td>\n",
       "      <td>819,916.38</td>\n",
       "      <td>7,214,107.89</td>\n",
       "    </tr>\n",
       "  </tbody>\n",
       "</table>\n",
       "</div>"
      ],
      "text/plain": [
       "   id  trade_date    exp_date         trader trade_ccy  product disc_curve   \n",
       "0   0  2023-05-04  2023-06-09   Shannon Byrd    USDALL  fx swap  USDALL-GE  \\\n",
       "1   1  2023-05-14  2023-06-25  Ashley Wilson    USDBWP  fx spot  USDBWP-GM   \n",
       "2   2  2023-04-29  2023-06-02  Jasmine Baker    USDFJD  fx spot  USDFJD-AG   \n",
       "\n",
       "    fx_cut market PnL_ccy delim          uPnL          rPnL            PnL  \n",
       "0  TKY1500     GE     USD     : -7,408,923.84 -1,466,436.87  -8,875,360.71  \n",
       "1  TKY1500     GM     USD     : -5,226,084.90 -8,085,982.90 -13,312,067.80  \n",
       "2  NYC1000     AG     USD     :  6,394,191.51    819,916.38   7,214,107.89  "
      ]
     },
     "execution_count": 6,
     "metadata": {},
     "output_type": "execute_result"
    }
   ],
   "source": [
    "pnl_v1.limit(3).toPandas()  #pnl_v1.show(3)"
   ]
  },
  {
   "cell_type": "code",
   "execution_count": 7,
   "id": "9716a1dc-eb83-40ab-b00e-d89c46976156",
   "metadata": {
    "tags": []
   },
   "outputs": [
    {
     "data": {
      "text/html": [
       "<div>\n",
       "<style scoped>\n",
       "    .dataframe tbody tr th:only-of-type {\n",
       "        vertical-align: middle;\n",
       "    }\n",
       "\n",
       "    .dataframe tbody tr th {\n",
       "        vertical-align: top;\n",
       "    }\n",
       "\n",
       "    .dataframe thead th {\n",
       "        text-align: right;\n",
       "    }\n",
       "</style>\n",
       "<table border=\"1\" class=\"dataframe\">\n",
       "  <thead>\n",
       "    <tr style=\"text-align: right;\">\n",
       "      <th></th>\n",
       "      <th>id</th>\n",
       "      <th>trade_date</th>\n",
       "      <th>exp_date</th>\n",
       "      <th>trader</th>\n",
       "      <th>trade_ccy</th>\n",
       "      <th>product</th>\n",
       "      <th>disc_curve</th>\n",
       "      <th>fx_cut</th>\n",
       "      <th>market</th>\n",
       "      <th>PnL_ccy</th>\n",
       "      <th>delim</th>\n",
       "      <th>uPnL</th>\n",
       "      <th>rPnL</th>\n",
       "      <th>PnL</th>\n",
       "      <th>trade_date_repdate_diff</th>\n",
       "      <th>exp_date_repdate_diff</th>\n",
       "    </tr>\n",
       "  </thead>\n",
       "  <tbody>\n",
       "    <tr>\n",
       "      <th>0</th>\n",
       "      <td>0</td>\n",
       "      <td>2023-05-04</td>\n",
       "      <td>2023-06-09</td>\n",
       "      <td>Shannon Byrd</td>\n",
       "      <td>USDALL</td>\n",
       "      <td>fx swap</td>\n",
       "      <td>USDALL-GE</td>\n",
       "      <td>TKY1500</td>\n",
       "      <td>GE</td>\n",
       "      <td>USD</td>\n",
       "      <td>:</td>\n",
       "      <td>-7,408,923.84</td>\n",
       "      <td>-1,466,436.87</td>\n",
       "      <td>-8,875,360.71</td>\n",
       "      <td>2</td>\n",
       "      <td>-34</td>\n",
       "    </tr>\n",
       "    <tr>\n",
       "      <th>1</th>\n",
       "      <td>1</td>\n",
       "      <td>2023-05-14</td>\n",
       "      <td>2023-06-25</td>\n",
       "      <td>Ashley Wilson</td>\n",
       "      <td>USDBWP</td>\n",
       "      <td>fx spot</td>\n",
       "      <td>USDBWP-GM</td>\n",
       "      <td>TKY1500</td>\n",
       "      <td>GM</td>\n",
       "      <td>USD</td>\n",
       "      <td>:</td>\n",
       "      <td>-5,226,084.90</td>\n",
       "      <td>-8,085,982.90</td>\n",
       "      <td>-13,312,067.80</td>\n",
       "      <td>-8</td>\n",
       "      <td>-50</td>\n",
       "    </tr>\n",
       "    <tr>\n",
       "      <th>2</th>\n",
       "      <td>2</td>\n",
       "      <td>2023-04-29</td>\n",
       "      <td>2023-06-02</td>\n",
       "      <td>Jasmine Baker</td>\n",
       "      <td>USDFJD</td>\n",
       "      <td>fx spot</td>\n",
       "      <td>USDFJD-AG</td>\n",
       "      <td>NYC1000</td>\n",
       "      <td>AG</td>\n",
       "      <td>USD</td>\n",
       "      <td>:</td>\n",
       "      <td>6,394,191.51</td>\n",
       "      <td>819,916.38</td>\n",
       "      <td>7,214,107.89</td>\n",
       "      <td>7</td>\n",
       "      <td>-27</td>\n",
       "    </tr>\n",
       "  </tbody>\n",
       "</table>\n",
       "</div>"
      ],
      "text/plain": [
       "   id  trade_date    exp_date         trader trade_ccy  product disc_curve   \n",
       "0   0  2023-05-04  2023-06-09   Shannon Byrd    USDALL  fx swap  USDALL-GE  \\\n",
       "1   1  2023-05-14  2023-06-25  Ashley Wilson    USDBWP  fx spot  USDBWP-GM   \n",
       "2   2  2023-04-29  2023-06-02  Jasmine Baker    USDFJD  fx spot  USDFJD-AG   \n",
       "\n",
       "    fx_cut market PnL_ccy delim          uPnL          rPnL            PnL   \n",
       "0  TKY1500     GE     USD     : -7,408,923.84 -1,466,436.87  -8,875,360.71  \\\n",
       "1  TKY1500     GM     USD     : -5,226,084.90 -8,085,982.90 -13,312,067.80   \n",
       "2  NYC1000     AG     USD     :  6,394,191.51    819,916.38   7,214,107.89   \n",
       "\n",
       "   trade_date_repdate_diff  exp_date_repdate_diff  \n",
       "0                        2                    -34  \n",
       "1                       -8                    -50  \n",
       "2                        7                    -27  "
      ]
     },
     "execution_count": 7,
     "metadata": {},
     "output_type": "execute_result"
    }
   ],
   "source": [
    "pnl_v2.limit(3).toPandas()  #pnl_v2.show(3)"
   ]
  },
  {
   "cell_type": "code",
   "execution_count": 8,
   "id": "14825f49-45e6-4cde-b2c4-89ec8d4ad841",
   "metadata": {
    "tags": []
   },
   "outputs": [],
   "source": [
    "# rerunnable.\n",
    "# renaming the RIGHTMOST fields of the two dataframes so as they are ready for join.\n",
    "dx = pnl_v1.columns.index('delim')+1\n",
    "join_cols = pnl_v1.columns[:dx]\n",
    "assert join_cols[-1] == 'delim'\n",
    "# renaming some cols:\n",
    "pnl_v1r = pnl_v1\n",
    "pnl_v2r = pnl_v2\n",
    "for c in pnl_v1.columns[dx:]:\n",
    "    pnl_v1r = pnl_v1r.withColumnRenamed(c,c+\"_v1\")\n",
    "    pnl_v2r = pnl_v2r.withColumnRenamed(c,c+\"_v2\")\n",
    "# pnl_v1r.show(3): the rightmost columns will have a name _v1\n",
    "# pnl_v2r.show(3): the rightmost columns will have a name _v2"
   ]
  },
  {
   "cell_type": "code",
   "execution_count": 9,
   "id": "17479ac7-24da-43e1-9355-6fa15a070fa9",
   "metadata": {
    "tags": []
   },
   "outputs": [],
   "source": [
    "use_hash = False\n",
    "# when True I will have all the left columns duplicated in the join df"
   ]
  },
  {
   "cell_type": "code",
   "execution_count": 10,
   "id": "373677a6-fba1-4162-9739-839ff331901e",
   "metadata": {
    "tags": []
   },
   "outputs": [],
   "source": [
    "# rerunnable.\n",
    "# I compute the md5 of the concatenated string with the values of all the joinable colums\n",
    "if use_hash:\n",
    "    pnl_v1rh = pnl_v1r.withColumn('hashcolname',md5(concat_ws('#',array(join_cols))))\n",
    "    pnl_v2rh = pnl_v2r.withColumn('hashcolname',md5(concat_ws('#',array(join_cols))))\n",
    "else:\n",
    "    pnl_v1rh = pnl_v1r\n",
    "    pnl_v2rh = pnl_v2r"
   ]
  },
  {
   "cell_type": "markdown",
   "id": "d78444de-c68e-47ef-bb8e-37ac465fb0d0",
   "metadata": {
    "tags": []
   },
   "source": [
    "### building the join table and flagging the differences in the dependent variables\n",
    "### i.e. the columns on the right"
   ]
  },
  {
   "cell_type": "code",
   "execution_count": 11,
   "id": "4aab951c-3c19-491b-b84e-435590d920a0",
   "metadata": {
    "tags": []
   },
   "outputs": [
    {
     "name": "stdout",
     "output_type": "stream",
     "text": [
      "pop_rc: 500000\n"
     ]
    },
    {
     "data": {
      "text/html": [
       "<div>\n",
       "<style scoped>\n",
       "    .dataframe tbody tr th:only-of-type {\n",
       "        vertical-align: middle;\n",
       "    }\n",
       "\n",
       "    .dataframe tbody tr th {\n",
       "        vertical-align: top;\n",
       "    }\n",
       "\n",
       "    .dataframe thead th {\n",
       "        text-align: right;\n",
       "    }\n",
       "</style>\n",
       "<table border=\"1\" class=\"dataframe\">\n",
       "  <thead>\n",
       "    <tr style=\"text-align: right;\">\n",
       "      <th></th>\n",
       "      <th>id</th>\n",
       "      <th>trade_date</th>\n",
       "      <th>exp_date</th>\n",
       "      <th>trader</th>\n",
       "      <th>trade_ccy</th>\n",
       "      <th>product</th>\n",
       "      <th>disc_curve</th>\n",
       "      <th>fx_cut</th>\n",
       "      <th>market</th>\n",
       "      <th>PnL_ccy</th>\n",
       "      <th>delim</th>\n",
       "      <th>uPnL_v1</th>\n",
       "      <th>rPnL_v1</th>\n",
       "      <th>PnL_v1</th>\n",
       "      <th>uPnL_v2</th>\n",
       "      <th>rPnL_v2</th>\n",
       "      <th>PnL_v2</th>\n",
       "      <th>trade_date_repdate_diff</th>\n",
       "      <th>exp_date_repdate_diff</th>\n",
       "    </tr>\n",
       "  </thead>\n",
       "  <tbody>\n",
       "    <tr>\n",
       "      <th>0</th>\n",
       "      <td>5</td>\n",
       "      <td>2023-05-13</td>\n",
       "      <td>2023-05-14</td>\n",
       "      <td>Jennifer Jones</td>\n",
       "      <td>USDZMW</td>\n",
       "      <td>fx fwd</td>\n",
       "      <td>USDZMW-GN</td>\n",
       "      <td>NYC1000</td>\n",
       "      <td>GN</td>\n",
       "      <td>USD</td>\n",
       "      <td>:</td>\n",
       "      <td>-9,869,409.75</td>\n",
       "      <td>-3,996,865.59</td>\n",
       "      <td>-13,866,275.34</td>\n",
       "      <td>-9,869,409.75</td>\n",
       "      <td>-3,996,865.59</td>\n",
       "      <td>-13,866,275.34</td>\n",
       "      <td>-7</td>\n",
       "      <td>-8</td>\n",
       "    </tr>\n",
       "    <tr>\n",
       "      <th>1</th>\n",
       "      <td>6</td>\n",
       "      <td>2023-05-11</td>\n",
       "      <td>2023-06-29</td>\n",
       "      <td>Rebecca Flores</td>\n",
       "      <td>USDMNT</td>\n",
       "      <td>fx spot</td>\n",
       "      <td>USDMNT-GD</td>\n",
       "      <td>NYC1000</td>\n",
       "      <td>GD</td>\n",
       "      <td>USD</td>\n",
       "      <td>:</td>\n",
       "      <td>-996,809.37</td>\n",
       "      <td>-8,099,321.43</td>\n",
       "      <td>-9,096,130.80</td>\n",
       "      <td>-996,809.37</td>\n",
       "      <td>-8,099,321.43</td>\n",
       "      <td>-9,096,130.80</td>\n",
       "      <td>-5</td>\n",
       "      <td>-54</td>\n",
       "    </tr>\n",
       "    <tr>\n",
       "      <th>2</th>\n",
       "      <td>8</td>\n",
       "      <td>2023-05-02</td>\n",
       "      <td>2023-05-08</td>\n",
       "      <td>John Franklin</td>\n",
       "      <td>USDLSL</td>\n",
       "      <td>fx futures</td>\n",
       "      <td>USDLSL-TH</td>\n",
       "      <td>TKY1500</td>\n",
       "      <td>TH</td>\n",
       "      <td>USD</td>\n",
       "      <td>:</td>\n",
       "      <td>6,089,738.13</td>\n",
       "      <td>2,395,105.79</td>\n",
       "      <td>8,484,843.92</td>\n",
       "      <td>6,089,738.13</td>\n",
       "      <td>2,395,105.79</td>\n",
       "      <td>8,484,843.92</td>\n",
       "      <td>4</td>\n",
       "      <td>-2</td>\n",
       "    </tr>\n",
       "  </tbody>\n",
       "</table>\n",
       "</div>"
      ],
      "text/plain": [
       "   id  trade_date    exp_date          trader trade_ccy     product   \n",
       "0   5  2023-05-13  2023-05-14  Jennifer Jones    USDZMW      fx fwd  \\\n",
       "1   6  2023-05-11  2023-06-29  Rebecca Flores    USDMNT     fx spot   \n",
       "2   8  2023-05-02  2023-05-08   John Franklin    USDLSL  fx futures   \n",
       "\n",
       "  disc_curve   fx_cut market PnL_ccy delim       uPnL_v1       rPnL_v1   \n",
       "0  USDZMW-GN  NYC1000     GN     USD     : -9,869,409.75 -3,996,865.59  \\\n",
       "1  USDMNT-GD  NYC1000     GD     USD     :   -996,809.37 -8,099,321.43   \n",
       "2  USDLSL-TH  TKY1500     TH     USD     :  6,089,738.13  2,395,105.79   \n",
       "\n",
       "          PnL_v1       uPnL_v2       rPnL_v2         PnL_v2   \n",
       "0 -13,866,275.34 -9,869,409.75 -3,996,865.59 -13,866,275.34  \\\n",
       "1  -9,096,130.80   -996,809.37 -8,099,321.43  -9,096,130.80   \n",
       "2   8,484,843.92  6,089,738.13  2,395,105.79   8,484,843.92   \n",
       "\n",
       "   trade_date_repdate_diff  exp_date_repdate_diff  \n",
       "0                       -7                     -8  \n",
       "1                       -5                    -54  \n",
       "2                        4                     -2  "
      ]
     },
     "execution_count": 11,
     "metadata": {},
     "output_type": "execute_result"
    }
   ],
   "source": [
    "# rerunnable.\n",
    "if use_hash:\n",
    "    pnl_v12 =  pnl_v1rh.join(other=pnl_v2rh,on='hashcolname',how='fullouter') # we assumed inner and fullouter will return the same result\n",
    "else:\n",
    "    pnl_v12 = pnl_v1rh.join(other=pnl_v2rh,on=join_cols,how='fullouter') # we assumed inner and fullouter will return the same result\n",
    "\n",
    "pop_rc = pnl_v12.count()\n",
    "print('pop_rc:',pop_rc)\n",
    "pnl_v12.limit(3).toPandas()"
   ]
  },
  {
   "cell_type": "code",
   "execution_count": 12,
   "id": "34c9a43b-de78-4510-95e4-ef047ac7c138",
   "metadata": {
    "tags": []
   },
   "outputs": [
    {
     "name": "stdout",
     "output_type": "stream",
     "text": [
      "adding a diff boolean flag for column uPnL as uPnL_isdiff\n",
      "diff rowcount: 2090 - min support should be: 0.00418\n",
      "adding a diff boolean flag for column rPnL as rPnL_isdiff\n",
      "diff rowcount: 756 - min support should be: 0.001512\n",
      "adding a diff boolean flag for column PnL as PnL_isdiff\n",
      "diff rowcount: 199265 - min support should be: 0.39853\n"
     ]
    }
   ],
   "source": [
    "# rerunnable.\n",
    "pnl_v12b = pnl_v12\n",
    "for cc in [\"uPnL\",\"rPnL\",\"PnL\"]:\n",
    "    print('adding a diff boolean flag for column',cc,'as',cc+\"_isdiff\")\n",
    "    pnl_v12b = pnl_v12b.withColumn(cc+\"_isdiff\", when(pnl_v12b[cc+\"_v1\"] == pnl_v12b[cc+\"_v2\"],0).otherwise(1))\n",
    "    rc = pnl_v12b.filter(pnl_v12b[cc+\"_isdiff\"]==lit(1)).count()\n",
    "    print('diff rowcount:',rc,'- min support should be:',rc/pop_rc) "
   ]
  },
  {
   "cell_type": "code",
   "execution_count": 13,
   "id": "4c1a194a-70b4-4e2b-9bb4-73c2c9ebe2da",
   "metadata": {
    "tags": []
   },
   "outputs": [
    {
     "name": "stdout",
     "output_type": "stream",
     "text": [
      "adding a signal: exp_date == report_date - 1\n",
      "count of diff: 6073\n"
     ]
    }
   ],
   "source": [
    "# rerunnable.\n",
    "print(\"adding a signal: exp_date == report_date - 1\")\n",
    "T_plus_n_watch = -1\n",
    "pnl_v12bS = pnl_v12b.withColumn(\"is_exp_date_m1\", when(pnl_v12b.exp_date_repdate_diff == lit(T_plus_n_watch),1).otherwise(0))\n",
    "print('count of diff:',pnl_v12bS.filter(pnl_v12bS[\"is_exp_date_m1\"]==lit(1)).count())"
   ]
  },
  {
   "cell_type": "code",
   "execution_count": 14,
   "id": "660f8a9e-2c41-43c5-aeb5-613bc3b918de",
   "metadata": {
    "tags": []
   },
   "outputs": [],
   "source": [
    "# rerunnable.\n",
    "# disposable columns...\n",
    "pnl_v12bS = pnl_v12bS.drop(\"trade_date_repdate_diff\")\n",
    "pnl_v12bS = pnl_v12bS.drop(\"exp_date_repdate_diff\")"
   ]
  },
  {
   "cell_type": "markdown",
   "id": "3bf0c903-c668-4f4f-8ce1-a997abc2ebf9",
   "metadata": {},
   "source": [
    "### the table ready for the rule mining: "
   ]
  },
  {
   "cell_type": "code",
   "execution_count": 15,
   "id": "a64ac456-981e-4049-aab9-ebfec49020c1",
   "metadata": {
    "tags": []
   },
   "outputs": [],
   "source": [
    "# pnl_v12bS.printSchema()\n",
    "# pnl_v12bS.columns"
   ]
  },
  {
   "cell_type": "code",
   "execution_count": 16,
   "id": "40282d7f-ba74-48fa-ad28-44f24b62606d",
   "metadata": {
    "tags": []
   },
   "outputs": [
    {
     "data": {
      "text/html": [
       "<div>\n",
       "<style scoped>\n",
       "    .dataframe tbody tr th:only-of-type {\n",
       "        vertical-align: middle;\n",
       "    }\n",
       "\n",
       "    .dataframe tbody tr th {\n",
       "        vertical-align: top;\n",
       "    }\n",
       "\n",
       "    .dataframe thead th {\n",
       "        text-align: right;\n",
       "    }\n",
       "</style>\n",
       "<table border=\"1\" class=\"dataframe\">\n",
       "  <thead>\n",
       "    <tr style=\"text-align: right;\">\n",
       "      <th></th>\n",
       "      <th>id</th>\n",
       "      <th>trade_date</th>\n",
       "      <th>exp_date</th>\n",
       "      <th>trader</th>\n",
       "      <th>trade_ccy</th>\n",
       "      <th>product</th>\n",
       "      <th>disc_curve</th>\n",
       "      <th>fx_cut</th>\n",
       "      <th>market</th>\n",
       "      <th>PnL_ccy</th>\n",
       "      <th>delim</th>\n",
       "      <th>uPnL_v1</th>\n",
       "      <th>rPnL_v1</th>\n",
       "      <th>PnL_v1</th>\n",
       "      <th>uPnL_v2</th>\n",
       "      <th>rPnL_v2</th>\n",
       "      <th>PnL_v2</th>\n",
       "      <th>uPnL_isdiff</th>\n",
       "      <th>rPnL_isdiff</th>\n",
       "      <th>PnL_isdiff</th>\n",
       "      <th>is_exp_date_m1</th>\n",
       "    </tr>\n",
       "  </thead>\n",
       "  <tbody>\n",
       "    <tr>\n",
       "      <th>0</th>\n",
       "      <td>5</td>\n",
       "      <td>2023-05-13</td>\n",
       "      <td>2023-05-14</td>\n",
       "      <td>Jennifer Jones</td>\n",
       "      <td>USDZMW</td>\n",
       "      <td>fx fwd</td>\n",
       "      <td>USDZMW-GN</td>\n",
       "      <td>NYC1000</td>\n",
       "      <td>GN</td>\n",
       "      <td>USD</td>\n",
       "      <td>:</td>\n",
       "      <td>-9,869,409.75</td>\n",
       "      <td>-3,996,865.59</td>\n",
       "      <td>-13,866,275.34</td>\n",
       "      <td>-9,869,409.75</td>\n",
       "      <td>-3,996,865.59</td>\n",
       "      <td>-13,866,275.34</td>\n",
       "      <td>0</td>\n",
       "      <td>0</td>\n",
       "      <td>0</td>\n",
       "      <td>0</td>\n",
       "    </tr>\n",
       "    <tr>\n",
       "      <th>1</th>\n",
       "      <td>6</td>\n",
       "      <td>2023-05-11</td>\n",
       "      <td>2023-06-29</td>\n",
       "      <td>Rebecca Flores</td>\n",
       "      <td>USDMNT</td>\n",
       "      <td>fx spot</td>\n",
       "      <td>USDMNT-GD</td>\n",
       "      <td>NYC1000</td>\n",
       "      <td>GD</td>\n",
       "      <td>USD</td>\n",
       "      <td>:</td>\n",
       "      <td>-996,809.37</td>\n",
       "      <td>-8,099,321.43</td>\n",
       "      <td>-9,096,130.80</td>\n",
       "      <td>-996,809.37</td>\n",
       "      <td>-8,099,321.43</td>\n",
       "      <td>-9,096,130.80</td>\n",
       "      <td>0</td>\n",
       "      <td>0</td>\n",
       "      <td>1</td>\n",
       "      <td>0</td>\n",
       "    </tr>\n",
       "    <tr>\n",
       "      <th>2</th>\n",
       "      <td>8</td>\n",
       "      <td>2023-05-02</td>\n",
       "      <td>2023-05-08</td>\n",
       "      <td>John Franklin</td>\n",
       "      <td>USDLSL</td>\n",
       "      <td>fx futures</td>\n",
       "      <td>USDLSL-TH</td>\n",
       "      <td>TKY1500</td>\n",
       "      <td>TH</td>\n",
       "      <td>USD</td>\n",
       "      <td>:</td>\n",
       "      <td>6,089,738.13</td>\n",
       "      <td>2,395,105.79</td>\n",
       "      <td>8,484,843.92</td>\n",
       "      <td>6,089,738.13</td>\n",
       "      <td>2,395,105.79</td>\n",
       "      <td>8,484,843.92</td>\n",
       "      <td>0</td>\n",
       "      <td>0</td>\n",
       "      <td>0</td>\n",
       "      <td>0</td>\n",
       "    </tr>\n",
       "  </tbody>\n",
       "</table>\n",
       "</div>"
      ],
      "text/plain": [
       "   id  trade_date    exp_date          trader trade_ccy     product   \n",
       "0   5  2023-05-13  2023-05-14  Jennifer Jones    USDZMW      fx fwd  \\\n",
       "1   6  2023-05-11  2023-06-29  Rebecca Flores    USDMNT     fx spot   \n",
       "2   8  2023-05-02  2023-05-08   John Franklin    USDLSL  fx futures   \n",
       "\n",
       "  disc_curve   fx_cut market PnL_ccy delim       uPnL_v1       rPnL_v1   \n",
       "0  USDZMW-GN  NYC1000     GN     USD     : -9,869,409.75 -3,996,865.59  \\\n",
       "1  USDMNT-GD  NYC1000     GD     USD     :   -996,809.37 -8,099,321.43   \n",
       "2  USDLSL-TH  TKY1500     TH     USD     :  6,089,738.13  2,395,105.79   \n",
       "\n",
       "          PnL_v1       uPnL_v2       rPnL_v2         PnL_v2  uPnL_isdiff   \n",
       "0 -13,866,275.34 -9,869,409.75 -3,996,865.59 -13,866,275.34            0  \\\n",
       "1  -9,096,130.80   -996,809.37 -8,099,321.43  -9,096,130.80            0   \n",
       "2   8,484,843.92  6,089,738.13  2,395,105.79   8,484,843.92            0   \n",
       "\n",
       "   rPnL_isdiff  PnL_isdiff  is_exp_date_m1  \n",
       "0            0           0               0  \n",
       "1            0           1               0  \n",
       "2            0           0               0  "
      ]
     },
     "execution_count": 16,
     "metadata": {},
     "output_type": "execute_result"
    }
   ],
   "source": [
    "pnl_v12bS.limit(3).toPandas()"
   ]
  },
  {
   "cell_type": "markdown",
   "id": "e0d35894-9ae0-4f10-a466-a9af64698d55",
   "metadata": {},
   "source": [
    "## start of rule-mining"
   ]
  },
  {
   "cell_type": "code",
   "execution_count": 17,
   "id": "d66ba648-8088-4498-8523-a13fdfcc10c3",
   "metadata": {
    "tags": []
   },
   "outputs": [],
   "source": [
    "from pyspark.sql.functions import concat"
   ]
  },
  {
   "cell_type": "code",
   "execution_count": 18,
   "id": "7143a8a2-44ea-4b79-8309-49156d6811d9",
   "metadata": {
    "tags": []
   },
   "outputs": [],
   "source": [
    "\n",
    "def get_basket(pnl,rule_antecedent_cols,rule_consequent_col):\n",
    "    # https://stackoverflow.com/questions/51325092/pyspark-fp-growth-algorithm-raise-valueerrorparams-must-be-either-a-param\n",
    "    # you cannot have an array in a cell containing 0 multiple times. array items must be unique. so:\n",
    "    rule_ac = rule_antecedent_cols + rule_consequent_col\n",
    "    for rulecol in rule_ac:\n",
    "        # every value in every column in rule_ac is prefixed with its own column name and \"=\".\n",
    "        pnl = pnl.withColumn(rulecol, concat(lit(rulecol+\"=\"),col(rulecol)))\n",
    "\n",
    "    return pnl.select('id',array(rule_ac).alias(\"items\"))"
   ]
  },
  {
   "cell_type": "code",
   "execution_count": 19,
   "id": "1f2b20f9-503d-4d2d-a1b7-4783e0b66a5b",
   "metadata": {
    "tags": []
   },
   "outputs": [],
   "source": [
    "def get_itempopularity(model,rule_consequent_cols):\n",
    "    assert len(rule_consequent_cols)==1\n",
    "    watch_conseq = rule_consequent_cols[0] + \"=1\" # 'uPnL_diff=1'\n",
    "    print('watch_conseq:',watch_conseq)\n",
    "    watch_alias = 'is_conseq_in'\n",
    "    #colz_alias = 'diff_included_in_C'\n",
    "\n",
    "    itempopularity = model.freqItemsets\n",
    "    # ... FutureWarning: Deprecated in 3.0.0. Use SparkSession.builder.getOrCreate() instead\n",
    "    # ... not under my control\n",
    "\n",
    "    itempopularity.createOrReplaceTempView(\"itempopularity\")\n",
    "    # Then Query the temp view\n",
    "    #print(\"Top 20\")\n",
    "    dfo = spark.sql(\"SELECT * FROM itempopularity ORDER BY freq desc\")\n",
    "    #dfo.printSchema()\n",
    "    dofd=dfo.select('items','freq',size(dfo.items).alias('size'),array_contains(dfo.items, lit(watch_conseq)).alias(watch_alias))\n",
    "        # ... .where(  # .collect()\n",
    "    return dofd"
   ]
  },
  {
   "cell_type": "code",
   "execution_count": 20,
   "id": "9065aaf1-a7c0-4e81-bb5e-7d5ef2718c1c",
   "metadata": {
    "tags": []
   },
   "outputs": [],
   "source": [
    "def get_relevantbasketpopularity(ipdf):\n",
    "    watch_alias = 'is_conseq_in'\n",
    "    return ipdf.where('size >= 2 and '+ watch_alias) # do not include the baskets with a single item"
   ]
  },
  {
   "cell_type": "code",
   "execution_count": 21,
   "id": "30deb85d-1bc9-48cc-912f-7c3405d90b97",
   "metadata": {},
   "outputs": [],
   "source": [
    "def show_assoc(model,display,rule_consequent_cols):\n",
    "    watch_conseq = rule_consequent_cols[0] + \"=1\" # 'uPnL_diff=1'\n",
    "    print('watching conseq:',watch_conseq)\n",
    "    #watch_alias = 'is_conseq_in'\n",
    "    colz_alias = 'diff_included_in_C'\n",
    "\n",
    "    assoc = model.associationRules\n",
    "    assoc.createOrReplaceTempView(\"assoc\")\n",
    "    # Then Query the temp view\n",
    "    df2a = spark.sql(\"SELECT * FROM assoc ORDER BY confidence desc\")\n",
    "    df2b = df2a.select('antecedent','consequent','confidence','lift','support', \\\n",
    "             size(df2a.antecedent).alias('lenA'),size(df2a.consequent).alias('lenC'), \\\n",
    "             array_contains(df2a.consequent,watch_conseq).alias(colz_alias))\n",
    "    dofdx2 = df2b.where(colz_alias)\n",
    "    \n",
    "    if display == \"all,confid desc\":\n",
    "        return df2a\n",
    "    if display == \"all+criteria\":\n",
    "        return df2b\n",
    "    if display == \"top assoc\":\n",
    "        # df2b = show_assoc(model,\"all+criteria\n",
    "        # dofdx2 = df2b.where('lenC==1 and Cisdpnlnz')\n",
    "        return dofdx2.orderBy(col(\"lift\").desc(),col(\"lenA\").asc())\n",
    "    if display == \"top assoc for csv output\":\n",
    "        dofdx2noa = dofdx2.withColumn(\"antecedent\", concat_ws(\",\",col(\"antecedent\")))\n",
    "        dofdx2noa = dofdx2noa.withColumn(\"consequent\", concat_ws(\",\",col(\"consequent\")))\n",
    "        return dofdx2noa\n",
    "            ## dofdx2noa.toPandas().to_csv(fname_v1+\".output.\"+rule_consequent_cols[0]+\".assoc.csv\")\n",
    "            # dofdx2noa.coalesce(1).write.option(\"header\",True).mode('overwrite').csv(fname_v1+\".assoc.csv\")\n",
    "            # thanks https://stackoverflow.com/questions/43661660/spark-how-to-write-a-single-csv-file-without-folder\n"
   ]
  },
  {
   "cell_type": "markdown",
   "id": "4e8cb993-abdf-423d-a0a4-65ef634c7fc6",
   "metadata": {},
   "source": [
    "# setting the consequent"
   ]
  },
  {
   "cell_type": "code",
   "execution_count": 22,
   "id": "b1922b30-c3d0-41f6-8e77-945157839b36",
   "metadata": {
    "tags": []
   },
   "outputs": [],
   "source": [
    "minSupport_ = 0.0012\n",
    "minConfidence_ = 0.9"
   ]
  },
  {
   "cell_type": "markdown",
   "id": "b0b8498c-7738-4f34-a620-4d6080cbad33",
   "metadata": {
    "tags": []
   },
   "source": [
    "## consequent 1: rPnL"
   ]
  },
  {
   "cell_type": "code",
   "execution_count": 23,
   "id": "c26660f2-9431-40b4-8fb2-798bd5c077e3",
   "metadata": {
    "tags": []
   },
   "outputs": [],
   "source": [
    "# this pandas is now ready for rule-mining.\n",
    "rule_antecedent_cols = [ \"trade_ccy\",\"product\",\"disc_curve\",\"fx_cut\",\"market\",\"PnL_ccy\",\"is_exp_date_m1\" ]\n",
    "rule_consequent_cols = [\"rPnL_isdiff\"]\n",
    "#rule_consequent_cols = [ \"uPnL_diff\"] # , \"rPnL_diff\"] # , \"PnL_diff\" ]\n",
    "\n",
    "# ac = antec and conseq\n",
    "\n",
    "# goal: to build datafram pnl3 with items column with the fields above"
   ]
  },
  {
   "cell_type": "code",
   "execution_count": 24,
   "id": "9790ce1a-8fa6-4f40-826d-502866054488",
   "metadata": {
    "tags": []
   },
   "outputs": [
    {
     "data": {
      "text/html": [
       "<div>\n",
       "<style scoped>\n",
       "    .dataframe tbody tr th:only-of-type {\n",
       "        vertical-align: middle;\n",
       "    }\n",
       "\n",
       "    .dataframe tbody tr th {\n",
       "        vertical-align: top;\n",
       "    }\n",
       "\n",
       "    .dataframe thead th {\n",
       "        text-align: right;\n",
       "    }\n",
       "</style>\n",
       "<table border=\"1\" class=\"dataframe\">\n",
       "  <thead>\n",
       "    <tr style=\"text-align: right;\">\n",
       "      <th></th>\n",
       "      <th>id</th>\n",
       "      <th>items</th>\n",
       "    </tr>\n",
       "  </thead>\n",
       "  <tbody>\n",
       "    <tr>\n",
       "      <th>0</th>\n",
       "      <td>5</td>\n",
       "      <td>[trade_ccy=USDZMW, product=fx fwd, disc_curve=USDZMW-GN, fx_cut=NYC1000, market=GN, PnL_ccy=USD, is_exp_date_m1=0, rPnL_isdiff=0]</td>\n",
       "    </tr>\n",
       "    <tr>\n",
       "      <th>1</th>\n",
       "      <td>6</td>\n",
       "      <td>[trade_ccy=USDMNT, product=fx spot, disc_curve=USDMNT-GD, fx_cut=NYC1000, market=GD, PnL_ccy=USD, is_exp_date_m1=0, rPnL_isdiff=0]</td>\n",
       "    </tr>\n",
       "    <tr>\n",
       "      <th>2</th>\n",
       "      <td>8</td>\n",
       "      <td>[trade_ccy=USDLSL, product=fx futures, disc_curve=USDLSL-TH, fx_cut=TKY1500, market=TH, PnL_ccy=USD, is_exp_date_m1=0, rPnL_isdiff=0]</td>\n",
       "    </tr>\n",
       "  </tbody>\n",
       "</table>\n",
       "</div>"
      ],
      "text/plain": [
       "   id   \n",
       "0   5  \\\n",
       "1   6   \n",
       "2   8   \n",
       "\n",
       "                                                                                                                                   items  \n",
       "0      [trade_ccy=USDZMW, product=fx fwd, disc_curve=USDZMW-GN, fx_cut=NYC1000, market=GN, PnL_ccy=USD, is_exp_date_m1=0, rPnL_isdiff=0]  \n",
       "1     [trade_ccy=USDMNT, product=fx spot, disc_curve=USDMNT-GD, fx_cut=NYC1000, market=GD, PnL_ccy=USD, is_exp_date_m1=0, rPnL_isdiff=0]  \n",
       "2  [trade_ccy=USDLSL, product=fx futures, disc_curve=USDLSL-TH, fx_cut=TKY1500, market=TH, PnL_ccy=USD, is_exp_date_m1=0, rPnL_isdiff=0]  "
      ]
     },
     "execution_count": 24,
     "metadata": {},
     "output_type": "execute_result"
    }
   ],
   "source": [
    "pnlb = get_basket(pnl_v12bS,rule_antecedent_cols,rule_consequent_cols)\n",
    "pnlb.limit(3).toPandas()"
   ]
  },
  {
   "cell_type": "code",
   "execution_count": 25,
   "id": "b1daf725-f6ca-416e-a049-d73434bbc143",
   "metadata": {
    "tags": []
   },
   "outputs": [],
   "source": [
    "# above are the \"market baskets\", each with a number of items. Let's mine antecedent/consequent rules."
   ]
  },
  {
   "cell_type": "code",
   "execution_count": 26,
   "id": "9eba09c9-b676-43a7-8c01-81355063f082",
   "metadata": {},
   "outputs": [],
   "source": [
    "# https://spark.apache.org/docs/latest/api/python/reference/api/pyspark.ml.fpm.FPGrowth.html = 3.4.0\n",
    "# https://spark.apache.org/docs/3.1.1/api/python/reference/api/pyspark.ml.fpm.FPGrowth.html\n",
    "import time\n",
    "from pyspark.ml.fpm import FPGrowth\n",
    "fpGrowth = FPGrowth(itemsCol=\"items\", minSupport=minSupport_, minConfidence=minConfidence_) # minSupport=0.2, minConfidence=0.1\n",
    "model = fpGrowth.fit(pnlb)\n",
    "\n",
    "# now you have the model."
   ]
  },
  {
   "cell_type": "markdown",
   "id": "152f1fc6-9096-4ab9-bf9b-7daefa2e681b",
   "metadata": {},
   "source": [
    "### by the way - see items' popularity"
   ]
  },
  {
   "cell_type": "code",
   "execution_count": 27,
   "id": "b78c226b-e173-49cf-aa09-5348927a728c",
   "metadata": {
    "tags": []
   },
   "outputs": [
    {
     "name": "stdout",
     "output_type": "stream",
     "text": [
      "watch_conseq: rPnL_isdiff=1\n",
      "df rowcount: 22305\n",
      "elapsed: 22.0 s\n"
     ]
    },
    {
     "data": {
      "text/html": [
       "<div>\n",
       "<style scoped>\n",
       "    .dataframe tbody tr th:only-of-type {\n",
       "        vertical-align: middle;\n",
       "    }\n",
       "\n",
       "    .dataframe tbody tr th {\n",
       "        vertical-align: top;\n",
       "    }\n",
       "\n",
       "    .dataframe thead th {\n",
       "        text-align: right;\n",
       "    }\n",
       "</style>\n",
       "<table border=\"1\" class=\"dataframe\">\n",
       "  <thead>\n",
       "    <tr style=\"text-align: right;\">\n",
       "      <th></th>\n",
       "      <th>items</th>\n",
       "      <th>freq</th>\n",
       "      <th>size</th>\n",
       "      <th>is_conseq_in</th>\n",
       "    </tr>\n",
       "  </thead>\n",
       "  <tbody>\n",
       "    <tr>\n",
       "      <th>0</th>\n",
       "      <td>[rPnL_isdiff=0]</td>\n",
       "      <td>499244</td>\n",
       "      <td>1</td>\n",
       "      <td>False</td>\n",
       "    </tr>\n",
       "    <tr>\n",
       "      <th>1</th>\n",
       "      <td>[is_exp_date_m1=0]</td>\n",
       "      <td>493927</td>\n",
       "      <td>1</td>\n",
       "      <td>False</td>\n",
       "    </tr>\n",
       "    <tr>\n",
       "      <th>2</th>\n",
       "      <td>[is_exp_date_m1=0, rPnL_isdiff=0]</td>\n",
       "      <td>493177</td>\n",
       "      <td>2</td>\n",
       "      <td>False</td>\n",
       "    </tr>\n",
       "    <tr>\n",
       "      <th>3</th>\n",
       "      <td>[PnL_ccy=USD]</td>\n",
       "      <td>484878</td>\n",
       "      <td>1</td>\n",
       "      <td>False</td>\n",
       "    </tr>\n",
       "    <tr>\n",
       "      <th>4</th>\n",
       "      <td>[PnL_ccy=USD, rPnL_isdiff=0]</td>\n",
       "      <td>484878</td>\n",
       "      <td>2</td>\n",
       "      <td>False</td>\n",
       "    </tr>\n",
       "  </tbody>\n",
       "</table>\n",
       "</div>"
      ],
      "text/plain": [
       "                               items    freq  size  is_conseq_in\n",
       "0                    [rPnL_isdiff=0]  499244     1         False\n",
       "1                 [is_exp_date_m1=0]  493927     1         False\n",
       "2  [is_exp_date_m1=0, rPnL_isdiff=0]  493177     2         False\n",
       "3                      [PnL_ccy=USD]  484878     1         False\n",
       "4       [PnL_ccy=USD, rPnL_isdiff=0]  484878     2         False"
      ]
     },
     "execution_count": 27,
     "metadata": {},
     "output_type": "execute_result"
    }
   ],
   "source": [
    "epoch_a = time.time()\n",
    "ipdf = get_itempopularity(model,rule_consequent_cols)\n",
    "print('df rowcount:',ipdf.count())\n",
    "epoch_z = time.time()\n",
    "#print('elapsed:',round(epoch_z - epoch_a,1),'s')\n",
    "print(\"elapsed: %.1f s\" % (epoch_z - epoch_a))\n",
    "ipdf.limit(5).toPandas()    "
   ]
  },
  {
   "cell_type": "markdown",
   "id": "6c4748cc-2ea1-464d-bd1e-bd79d8683d4d",
   "metadata": {
    "tags": []
   },
   "source": [
    "### by the way - see relevant baskets popularity"
   ]
  },
  {
   "cell_type": "code",
   "execution_count": 28,
   "id": "7361c39e-b429-43c9-ab04-7e902584e013",
   "metadata": {},
   "outputs": [
    {
     "data": {
      "text/html": [
       "<div>\n",
       "<style scoped>\n",
       "    .dataframe tbody tr th:only-of-type {\n",
       "        vertical-align: middle;\n",
       "    }\n",
       "\n",
       "    .dataframe tbody tr th {\n",
       "        vertical-align: top;\n",
       "    }\n",
       "\n",
       "    .dataframe thead th {\n",
       "        text-align: right;\n",
       "    }\n",
       "</style>\n",
       "<table border=\"1\" class=\"dataframe\">\n",
       "  <thead>\n",
       "    <tr style=\"text-align: right;\">\n",
       "      <th></th>\n",
       "      <th>items</th>\n",
       "      <th>freq</th>\n",
       "      <th>size</th>\n",
       "      <th>is_conseq_in</th>\n",
       "    </tr>\n",
       "  </thead>\n",
       "  <tbody>\n",
       "    <tr>\n",
       "      <th>0</th>\n",
       "      <td>[rPnL_isdiff=1, PnL_ccy=AUD]</td>\n",
       "      <td>756</td>\n",
       "      <td>2</td>\n",
       "      <td>True</td>\n",
       "    </tr>\n",
       "    <tr>\n",
       "      <th>1</th>\n",
       "      <td>[rPnL_isdiff=1, PnL_ccy=AUD, product=fx fwd]</td>\n",
       "      <td>756</td>\n",
       "      <td>3</td>\n",
       "      <td>True</td>\n",
       "    </tr>\n",
       "    <tr>\n",
       "      <th>2</th>\n",
       "      <td>[rPnL_isdiff=1, PnL_ccy=AUD, trade_ccy=AUDUSD]</td>\n",
       "      <td>756</td>\n",
       "      <td>3</td>\n",
       "      <td>True</td>\n",
       "    </tr>\n",
       "    <tr>\n",
       "      <th>3</th>\n",
       "      <td>[rPnL_isdiff=1, PnL_ccy=AUD, trade_ccy=AUDUSD, product=fx fwd]</td>\n",
       "      <td>756</td>\n",
       "      <td>4</td>\n",
       "      <td>True</td>\n",
       "    </tr>\n",
       "    <tr>\n",
       "      <th>4</th>\n",
       "      <td>[rPnL_isdiff=1, product=fx fwd]</td>\n",
       "      <td>756</td>\n",
       "      <td>2</td>\n",
       "      <td>True</td>\n",
       "    </tr>\n",
       "    <tr>\n",
       "      <th>5</th>\n",
       "      <td>[rPnL_isdiff=1, trade_ccy=AUDUSD]</td>\n",
       "      <td>756</td>\n",
       "      <td>2</td>\n",
       "      <td>True</td>\n",
       "    </tr>\n",
       "    <tr>\n",
       "      <th>6</th>\n",
       "      <td>[rPnL_isdiff=1, trade_ccy=AUDUSD, product=fx fwd]</td>\n",
       "      <td>756</td>\n",
       "      <td>3</td>\n",
       "      <td>True</td>\n",
       "    </tr>\n",
       "    <tr>\n",
       "      <th>7</th>\n",
       "      <td>[rPnL_isdiff=1, is_exp_date_m1=0]</td>\n",
       "      <td>750</td>\n",
       "      <td>2</td>\n",
       "      <td>True</td>\n",
       "    </tr>\n",
       "    <tr>\n",
       "      <th>8</th>\n",
       "      <td>[rPnL_isdiff=1, PnL_ccy=AUD, is_exp_date_m1=0]</td>\n",
       "      <td>750</td>\n",
       "      <td>3</td>\n",
       "      <td>True</td>\n",
       "    </tr>\n",
       "    <tr>\n",
       "      <th>9</th>\n",
       "      <td>[rPnL_isdiff=1, PnL_ccy=AUD, product=fx fwd, is_exp_date_m1=0]</td>\n",
       "      <td>750</td>\n",
       "      <td>4</td>\n",
       "      <td>True</td>\n",
       "    </tr>\n",
       "  </tbody>\n",
       "</table>\n",
       "</div>"
      ],
      "text/plain": [
       "                                                            items  freq  size   \n",
       "0                                    [rPnL_isdiff=1, PnL_ccy=AUD]   756     2  \\\n",
       "1                    [rPnL_isdiff=1, PnL_ccy=AUD, product=fx fwd]   756     3   \n",
       "2                  [rPnL_isdiff=1, PnL_ccy=AUD, trade_ccy=AUDUSD]   756     3   \n",
       "3  [rPnL_isdiff=1, PnL_ccy=AUD, trade_ccy=AUDUSD, product=fx fwd]   756     4   \n",
       "4                                 [rPnL_isdiff=1, product=fx fwd]   756     2   \n",
       "5                               [rPnL_isdiff=1, trade_ccy=AUDUSD]   756     2   \n",
       "6               [rPnL_isdiff=1, trade_ccy=AUDUSD, product=fx fwd]   756     3   \n",
       "7                               [rPnL_isdiff=1, is_exp_date_m1=0]   750     2   \n",
       "8                  [rPnL_isdiff=1, PnL_ccy=AUD, is_exp_date_m1=0]   750     3   \n",
       "9  [rPnL_isdiff=1, PnL_ccy=AUD, product=fx fwd, is_exp_date_m1=0]   750     4   \n",
       "\n",
       "   is_conseq_in  \n",
       "0          True  \n",
       "1          True  \n",
       "2          True  \n",
       "3          True  \n",
       "4          True  \n",
       "5          True  \n",
       "6          True  \n",
       "7          True  \n",
       "8          True  \n",
       "9          True  "
      ]
     },
     "execution_count": 28,
     "metadata": {},
     "output_type": "execute_result"
    }
   ],
   "source": [
    "dofdx = get_relevantbasketpopularity(ipdf)\n",
    "dofdx.limit(10).toPandas()"
   ]
  },
  {
   "cell_type": "code",
   "execution_count": 29,
   "id": "c5039466-0931-4e4d-8f4e-1e278ee5e6aa",
   "metadata": {
    "tags": []
   },
   "outputs": [],
   "source": [
    "if False:\n",
    "    df2a = show_assoc(model,\"all,confid desc\",rule_consequent_cols)\n",
    "    print(\"Top 20:\")\n",
    "    df2a.limit(20).toPandas()"
   ]
  },
  {
   "cell_type": "code",
   "execution_count": 30,
   "id": "4d212ffa-a3cf-4d36-b533-856b95616d69",
   "metadata": {},
   "outputs": [],
   "source": [
    "if False:\n",
    "    df2b = show_assoc(model,\"all+criteria\",rule_consequent_cols)\n",
    "    df2b.limit(20).toPandas()"
   ]
  },
  {
   "cell_type": "markdown",
   "id": "564f79dc-e658-47eb-98d2-79cd693f824e",
   "metadata": {},
   "source": [
    "### show antec -> conseq order by lift DESC, len(antecs) ASC"
   ]
  },
  {
   "cell_type": "code",
   "execution_count": 31,
   "id": "7c1d8350-4d77-47a5-b939-ee16a06df555",
   "metadata": {},
   "outputs": [
    {
     "name": "stdout",
     "output_type": "stream",
     "text": [
      "watching conseq: rPnL_isdiff=1\n"
     ]
    },
    {
     "data": {
      "text/html": [
       "<div>\n",
       "<style scoped>\n",
       "    .dataframe tbody tr th:only-of-type {\n",
       "        vertical-align: middle;\n",
       "    }\n",
       "\n",
       "    .dataframe tbody tr th {\n",
       "        vertical-align: top;\n",
       "    }\n",
       "\n",
       "    .dataframe thead th {\n",
       "        text-align: right;\n",
       "    }\n",
       "</style>\n",
       "<table border=\"1\" class=\"dataframe\">\n",
       "  <thead>\n",
       "    <tr style=\"text-align: right;\">\n",
       "      <th></th>\n",
       "      <th>antecedent</th>\n",
       "      <th>consequent</th>\n",
       "      <th>confidence</th>\n",
       "      <th>lift</th>\n",
       "      <th>support</th>\n",
       "      <th>lenA</th>\n",
       "      <th>lenC</th>\n",
       "      <th>diff_included_in_C</th>\n",
       "    </tr>\n",
       "  </thead>\n",
       "  <tbody>\n",
       "    <tr>\n",
       "      <th>0</th>\n",
       "      <td>[PnL_ccy=AUD, product=fx fwd]</td>\n",
       "      <td>[rPnL_isdiff=1]</td>\n",
       "      <td>1.00</td>\n",
       "      <td>661.38</td>\n",
       "      <td>0.00</td>\n",
       "      <td>2</td>\n",
       "      <td>1</td>\n",
       "      <td>True</td>\n",
       "    </tr>\n",
       "    <tr>\n",
       "      <th>1</th>\n",
       "      <td>[trade_ccy=AUDUSD, product=fx fwd]</td>\n",
       "      <td>[rPnL_isdiff=1]</td>\n",
       "      <td>1.00</td>\n",
       "      <td>661.38</td>\n",
       "      <td>0.00</td>\n",
       "      <td>2</td>\n",
       "      <td>1</td>\n",
       "      <td>True</td>\n",
       "    </tr>\n",
       "    <tr>\n",
       "      <th>2</th>\n",
       "      <td>[trade_ccy=AUDUSD, product=fx fwd, is_exp_date_m1=0]</td>\n",
       "      <td>[rPnL_isdiff=1]</td>\n",
       "      <td>1.00</td>\n",
       "      <td>661.38</td>\n",
       "      <td>0.00</td>\n",
       "      <td>3</td>\n",
       "      <td>1</td>\n",
       "      <td>True</td>\n",
       "    </tr>\n",
       "    <tr>\n",
       "      <th>3</th>\n",
       "      <td>[PnL_ccy=AUD, product=fx fwd, is_exp_date_m1=0]</td>\n",
       "      <td>[rPnL_isdiff=1]</td>\n",
       "      <td>1.00</td>\n",
       "      <td>661.38</td>\n",
       "      <td>0.00</td>\n",
       "      <td>3</td>\n",
       "      <td>1</td>\n",
       "      <td>True</td>\n",
       "    </tr>\n",
       "    <tr>\n",
       "      <th>4</th>\n",
       "      <td>[PnL_ccy=AUD, trade_ccy=AUDUSD, product=fx fwd]</td>\n",
       "      <td>[rPnL_isdiff=1]</td>\n",
       "      <td>1.00</td>\n",
       "      <td>661.38</td>\n",
       "      <td>0.00</td>\n",
       "      <td>3</td>\n",
       "      <td>1</td>\n",
       "      <td>True</td>\n",
       "    </tr>\n",
       "    <tr>\n",
       "      <th>5</th>\n",
       "      <td>[PnL_ccy=AUD, trade_ccy=AUDUSD, product=fx fwd, is_exp_date_m1=0]</td>\n",
       "      <td>[rPnL_isdiff=1]</td>\n",
       "      <td>1.00</td>\n",
       "      <td>661.38</td>\n",
       "      <td>0.00</td>\n",
       "      <td>4</td>\n",
       "      <td>1</td>\n",
       "      <td>True</td>\n",
       "    </tr>\n",
       "  </tbody>\n",
       "</table>\n",
       "</div>"
      ],
      "text/plain": [
       "                                                          antecedent   \n",
       "0                                      [PnL_ccy=AUD, product=fx fwd]  \\\n",
       "1                                 [trade_ccy=AUDUSD, product=fx fwd]   \n",
       "2               [trade_ccy=AUDUSD, product=fx fwd, is_exp_date_m1=0]   \n",
       "3                    [PnL_ccy=AUD, product=fx fwd, is_exp_date_m1=0]   \n",
       "4                    [PnL_ccy=AUD, trade_ccy=AUDUSD, product=fx fwd]   \n",
       "5  [PnL_ccy=AUD, trade_ccy=AUDUSD, product=fx fwd, is_exp_date_m1=0]   \n",
       "\n",
       "        consequent  confidence   lift  support  lenA  lenC  diff_included_in_C  \n",
       "0  [rPnL_isdiff=1]        1.00 661.38     0.00     2     1                True  \n",
       "1  [rPnL_isdiff=1]        1.00 661.38     0.00     2     1                True  \n",
       "2  [rPnL_isdiff=1]        1.00 661.38     0.00     3     1                True  \n",
       "3  [rPnL_isdiff=1]        1.00 661.38     0.00     3     1                True  \n",
       "4  [rPnL_isdiff=1]        1.00 661.38     0.00     3     1                True  \n",
       "5  [rPnL_isdiff=1]        1.00 661.38     0.00     4     1                True  "
      ]
     },
     "execution_count": 31,
     "metadata": {},
     "output_type": "execute_result"
    }
   ],
   "source": [
    "dofdx2 = show_assoc(model,\"top assoc\",rule_consequent_cols)\n",
    "dofdx2.limit(20).toPandas()"
   ]
  },
  {
   "cell_type": "markdown",
   "id": "22971b33-075e-430d-ae29-b7351a7e4151",
   "metadata": {},
   "source": [
    "### comments:\n",
    "- The 2nd implied rule (row 1) is exactly the rule that was applied to introduce fabricated differences.\n",
    "- The 1st implied rule (row 0) is a byproduct of rule 2: in our input, trade_ccy=AUDUSD ⇒ PnL_ccy=AUD"
   ]
  },
  {
   "cell_type": "markdown",
   "id": "f423387c-cf8c-45d3-b827-fba9b9ce4c6e",
   "metadata": {},
   "source": [
    "### saving to csv"
   ]
  },
  {
   "cell_type": "code",
   "execution_count": 32,
   "id": "3e41fa0c-9407-4dee-b92e-f8e7e818d4b7",
   "metadata": {
    "tags": []
   },
   "outputs": [
    {
     "name": "stdout",
     "output_type": "stream",
     "text": [
      "watching conseq: rPnL_isdiff=1\n"
     ]
    }
   ],
   "source": [
    "dofdx2o = show_assoc(model,\"top assoc for csv output\",rule_consequent_cols)\n",
    "dofdx2o.toPandas().to_csv(fname_v1+\".output.conseq-\"+rule_consequent_cols[0]+\".assoc.csv\")"
   ]
  },
  {
   "cell_type": "code",
   "execution_count": 33,
   "id": "4df334bd-7bd4-486a-b65c-8eb14d1ec708",
   "metadata": {},
   "outputs": [],
   "source": [
    "## .. the most recurring combination of antecedents'values for teh consequent"
   ]
  },
  {
   "cell_type": "code",
   "execution_count": 34,
   "id": "dd31cca7-85ae-41c7-96c2-79aa0b52d730",
   "metadata": {
    "tags": []
   },
   "outputs": [
    {
     "name": "stdout",
     "output_type": "stream",
     "text": [
      "2023-05-10 22:20:04 +08+0800\n"
     ]
    }
   ],
   "source": [
    "print_now()"
   ]
  },
  {
   "cell_type": "markdown",
   "id": "e0fca4f8-9026-43aa-b2d7-7258390043e2",
   "metadata": {},
   "source": [
    "## consequent 2: uPnL"
   ]
  },
  {
   "cell_type": "code",
   "execution_count": 35,
   "id": "b390f711-ed2b-430e-ac57-4b547b378ade",
   "metadata": {
    "tags": []
   },
   "outputs": [],
   "source": [
    "# this pandas is now ready for rule-mining.\n",
    "rule_antecedent_cols = [ \"trade_ccy\",\"product\",\"disc_curve\",\"fx_cut\",\"market\",\"PnL_ccy\",\"is_exp_date_m1\" ]\n",
    "rule_consequent_cols = [\"uPnL_isdiff\"]\n",
    "#rule_consequent_cols = [ \"uPnL_diff\"] # , \"rPnL_diff\"] # , \"PnL_diff\" ]\n",
    "\n",
    "# ac = antec and conseq\n",
    "\n",
    "# goal: to build datafram pnl3 with items column with the fields above"
   ]
  },
  {
   "cell_type": "code",
   "execution_count": 36,
   "id": "a82c823b-edbf-4ae5-958f-6ba2e421d43d",
   "metadata": {
    "tags": []
   },
   "outputs": [
    {
     "data": {
      "text/html": [
       "<div>\n",
       "<style scoped>\n",
       "    .dataframe tbody tr th:only-of-type {\n",
       "        vertical-align: middle;\n",
       "    }\n",
       "\n",
       "    .dataframe tbody tr th {\n",
       "        vertical-align: top;\n",
       "    }\n",
       "\n",
       "    .dataframe thead th {\n",
       "        text-align: right;\n",
       "    }\n",
       "</style>\n",
       "<table border=\"1\" class=\"dataframe\">\n",
       "  <thead>\n",
       "    <tr style=\"text-align: right;\">\n",
       "      <th></th>\n",
       "      <th>id</th>\n",
       "      <th>items</th>\n",
       "    </tr>\n",
       "  </thead>\n",
       "  <tbody>\n",
       "    <tr>\n",
       "      <th>0</th>\n",
       "      <td>5</td>\n",
       "      <td>[trade_ccy=USDZMW, product=fx fwd, disc_curve=USDZMW-GN, fx_cut=NYC1000, market=GN, PnL_ccy=USD, is_exp_date_m1=0, uPnL_isdiff=0]</td>\n",
       "    </tr>\n",
       "    <tr>\n",
       "      <th>1</th>\n",
       "      <td>6</td>\n",
       "      <td>[trade_ccy=USDMNT, product=fx spot, disc_curve=USDMNT-GD, fx_cut=NYC1000, market=GD, PnL_ccy=USD, is_exp_date_m1=0, uPnL_isdiff=0]</td>\n",
       "    </tr>\n",
       "    <tr>\n",
       "      <th>2</th>\n",
       "      <td>8</td>\n",
       "      <td>[trade_ccy=USDLSL, product=fx futures, disc_curve=USDLSL-TH, fx_cut=TKY1500, market=TH, PnL_ccy=USD, is_exp_date_m1=0, uPnL_isdiff=0]</td>\n",
       "    </tr>\n",
       "  </tbody>\n",
       "</table>\n",
       "</div>"
      ],
      "text/plain": [
       "   id   \n",
       "0   5  \\\n",
       "1   6   \n",
       "2   8   \n",
       "\n",
       "                                                                                                                                   items  \n",
       "0      [trade_ccy=USDZMW, product=fx fwd, disc_curve=USDZMW-GN, fx_cut=NYC1000, market=GN, PnL_ccy=USD, is_exp_date_m1=0, uPnL_isdiff=0]  \n",
       "1     [trade_ccy=USDMNT, product=fx spot, disc_curve=USDMNT-GD, fx_cut=NYC1000, market=GD, PnL_ccy=USD, is_exp_date_m1=0, uPnL_isdiff=0]  \n",
       "2  [trade_ccy=USDLSL, product=fx futures, disc_curve=USDLSL-TH, fx_cut=TKY1500, market=TH, PnL_ccy=USD, is_exp_date_m1=0, uPnL_isdiff=0]  "
      ]
     },
     "execution_count": 36,
     "metadata": {},
     "output_type": "execute_result"
    }
   ],
   "source": [
    "pnlb = get_basket(pnl_v12bS,rule_antecedent_cols,rule_consequent_cols)\n",
    "pnlb.limit(3).toPandas()"
   ]
  },
  {
   "cell_type": "code",
   "execution_count": 37,
   "id": "dcacb924-991a-44e1-8a65-5bcbb84eb1c7",
   "metadata": {
    "tags": []
   },
   "outputs": [],
   "source": [
    "# https://spark.apache.org/docs/latest/api/python/reference/api/pyspark.ml.fpm.FPGrowth.html = 3.4.0\n",
    "# https://spark.apache.org/docs/3.1.1/api/python/reference/api/pyspark.ml.fpm.FPGrowth.html\n",
    "import time\n",
    "from pyspark.ml.fpm import FPGrowth\n",
    "fpGrowth = FPGrowth(itemsCol=\"items\", minSupport=minSupport_, minConfidence=minConfidence_) # minSupport=0.2, minConfidence=0.1\n",
    "model = fpGrowth.fit(pnlb)\n",
    "\n",
    "# now you have the model."
   ]
  },
  {
   "cell_type": "markdown",
   "id": "2b00b038-48c3-4784-aa0f-3cec3678465e",
   "metadata": {},
   "source": [
    "### show antec -> conseq order by lift DESC, len(antecs) ASC"
   ]
  },
  {
   "cell_type": "code",
   "execution_count": 38,
   "id": "1d275b77-204e-4a45-b4c0-f5459736cb80",
   "metadata": {
    "tags": []
   },
   "outputs": [
    {
     "name": "stdout",
     "output_type": "stream",
     "text": [
      "watching conseq: uPnL_isdiff=1\n"
     ]
    },
    {
     "data": {
      "text/html": [
       "<div>\n",
       "<style scoped>\n",
       "    .dataframe tbody tr th:only-of-type {\n",
       "        vertical-align: middle;\n",
       "    }\n",
       "\n",
       "    .dataframe tbody tr th {\n",
       "        vertical-align: top;\n",
       "    }\n",
       "\n",
       "    .dataframe thead th {\n",
       "        text-align: right;\n",
       "    }\n",
       "</style>\n",
       "<table border=\"1\" class=\"dataframe\">\n",
       "  <thead>\n",
       "    <tr style=\"text-align: right;\">\n",
       "      <th></th>\n",
       "      <th>antecedent</th>\n",
       "      <th>consequent</th>\n",
       "      <th>confidence</th>\n",
       "      <th>lift</th>\n",
       "      <th>support</th>\n",
       "      <th>lenA</th>\n",
       "      <th>lenC</th>\n",
       "      <th>diff_included_in_C</th>\n",
       "    </tr>\n",
       "  </thead>\n",
       "  <tbody>\n",
       "    <tr>\n",
       "      <th>0</th>\n",
       "      <td>[is_exp_date_m1=1, fx_cut=TKY1500]</td>\n",
       "      <td>[uPnL_isdiff=1]</td>\n",
       "      <td>1.00</td>\n",
       "      <td>239.23</td>\n",
       "      <td>0.00</td>\n",
       "      <td>2</td>\n",
       "      <td>1</td>\n",
       "      <td>True</td>\n",
       "    </tr>\n",
       "    <tr>\n",
       "      <th>1</th>\n",
       "      <td>[is_exp_date_m1=1, fx_cut=TKY1500, PnL_ccy=USD]</td>\n",
       "      <td>[uPnL_isdiff=1]</td>\n",
       "      <td>1.00</td>\n",
       "      <td>239.23</td>\n",
       "      <td>0.00</td>\n",
       "      <td>3</td>\n",
       "      <td>1</td>\n",
       "      <td>True</td>\n",
       "    </tr>\n",
       "  </tbody>\n",
       "</table>\n",
       "</div>"
      ],
      "text/plain": [
       "                                        antecedent       consequent   \n",
       "0               [is_exp_date_m1=1, fx_cut=TKY1500]  [uPnL_isdiff=1]  \\\n",
       "1  [is_exp_date_m1=1, fx_cut=TKY1500, PnL_ccy=USD]  [uPnL_isdiff=1]   \n",
       "\n",
       "   confidence   lift  support  lenA  lenC  diff_included_in_C  \n",
       "0        1.00 239.23     0.00     2     1                True  \n",
       "1        1.00 239.23     0.00     3     1                True  "
      ]
     },
     "execution_count": 38,
     "metadata": {},
     "output_type": "execute_result"
    }
   ],
   "source": [
    "dofdx2 = show_assoc(model,\"top assoc\",rule_consequent_cols)\n",
    "dofdx2.limit(20).toPandas()"
   ]
  },
  {
   "cell_type": "markdown",
   "id": "befad1a3-6fd0-4d38-b4e7-f8915fd19646",
   "metadata": {
    "tags": []
   },
   "source": [
    "### comments:\n",
    "- The 1st implied rule (row 0) is exactly the rule that was applied to introduce fabricated differences.\n",
    "- The 2nd implied rule (row 1) is less general than rule 1."
   ]
  },
  {
   "cell_type": "markdown",
   "id": "87c4960a-4b99-44bd-89e4-4c5c92d29b4b",
   "metadata": {},
   "source": [
    "### saving to csv"
   ]
  },
  {
   "cell_type": "code",
   "execution_count": 39,
   "id": "a524bac4-2c67-4b5e-927f-db431f76b45c",
   "metadata": {},
   "outputs": [
    {
     "name": "stdout",
     "output_type": "stream",
     "text": [
      "watching conseq: uPnL_isdiff=1\n"
     ]
    }
   ],
   "source": [
    "dofdx2o = show_assoc(model,\"top assoc for csv output\",rule_consequent_cols)\n",
    "dofdx2o.toPandas().to_csv(fname_v1+\".output.conseq-\"+rule_consequent_cols[0]+\".assoc.csv\")"
   ]
  },
  {
   "cell_type": "code",
   "execution_count": 40,
   "id": "809c7f25-9a60-40b0-b6fa-7b5019d9bf76",
   "metadata": {
    "tags": []
   },
   "outputs": [
    {
     "name": "stdout",
     "output_type": "stream",
     "text": [
      "2023-05-10 22:21:31 +08+0800\n"
     ]
    }
   ],
   "source": [
    "print_now()"
   ]
  },
  {
   "cell_type": "markdown",
   "id": "c81290a7-366a-45f5-8f62-79c1ab0f2d35",
   "metadata": {},
   "source": [
    "### reminder on the rules applied to csv v1 to obtain csv v2:\n",
    "- fabricated diff 1 was applied to field rPNL when: trade_ccy=AUDUSD & product=fx fwd\n",
    "- fabricated diff 2 was applied to field uPNL when: fx_cut=TKY1500 & exp_dt=T-1\n",
    "- fabricated diff 3 was applied to field PNL as sum of rPNL and uPNL"
   ]
  }
 ],
 "metadata": {
  "kernelspec": {
   "display_name": "Python 3 (ipykernel)",
   "language": "python",
   "name": "python3"
  },
  "language_info": {
   "codemirror_mode": {
    "name": "ipython",
    "version": 3
   },
   "file_extension": ".py",
   "mimetype": "text/x-python",
   "name": "python",
   "nbconvert_exporter": "python",
   "pygments_lexer": "ipython3",
   "version": "3.10.10"
  }
 },
 "nbformat": 4,
 "nbformat_minor": 5
}
