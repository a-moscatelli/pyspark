{
 "cells": [
  {
   "cell_type": "code",
   "execution_count": 1,
   "id": "9904fae0-a9b2-4d18-97f6-5244de22fcb1",
   "metadata": {},
   "outputs": [],
   "source": [
    "# findspark ..."
   ]
  },
  {
   "cell_type": "code",
   "execution_count": 2,
   "id": "a3ecf0c8-c894-4d21-a566-4e153df4392d",
   "metadata": {},
   "outputs": [
    {
     "data": {
      "text/html": [
       "\n",
       "            <div>\n",
       "                <p><b>SparkSession - in-memory</b></p>\n",
       "                \n",
       "        <div>\n",
       "            <p><b>SparkContext</b></p>\n",
       "\n",
       "            <p><a href=\"http://c0f3eaff4c92:4040\">Spark UI</a></p>\n",
       "\n",
       "            <dl>\n",
       "              <dt>Version</dt>\n",
       "                <dd><code>v3.2.1</code></dd>\n",
       "              <dt>Master</dt>\n",
       "                <dd><code>local[*]</code></dd>\n",
       "              <dt>AppName</dt>\n",
       "                <dd><code>pv_diff_app</code></dd>\n",
       "            </dl>\n",
       "        </div>\n",
       "        \n",
       "            </div>\n",
       "        "
      ],
      "text/plain": [
       "<pyspark.sql.session.SparkSession at 0x7f0b627a9280>"
      ]
     },
     "execution_count": 2,
     "metadata": {},
     "output_type": "execute_result"
    }
   ],
   "source": [
    "import pyspark\n",
    "from pyspark.sql import SparkSession\n",
    "spark = SparkSession.builder.appName(\"pv_diff_app\").getOrCreate() \n",
    "spark"
   ]
  },
  {
   "cell_type": "code",
   "execution_count": 3,
   "id": "c236422e-e6f3-4eb0-8879-78fbe5ac32e3",
   "metadata": {},
   "outputs": [],
   "source": [
    "pvdf = spark.read.csv('pv_sample_input_1.csv',inferSchema=True,header=True)"
   ]
  },
  {
   "cell_type": "code",
   "execution_count": 4,
   "id": "6a6cad11-8d20-4a3b-8981-7f10165e0395",
   "metadata": {},
   "outputs": [],
   "source": [
    "import pandas as pd\n",
    "pd.options.display.max_rows = None\n",
    "pd.options.display.max_columns = None \n",
    "pd.options.display.max_colwidth = None\n",
    "pd.options.display.precision = 2\n",
    "\n",
    "# as in https://towardsdatascience.com/8-commonly-used-pandas-display-options-you-should-know-a832365efa95"
   ]
  },
  {
   "cell_type": "code",
   "execution_count": 5,
   "id": "c9cdc0f4-80d0-4a6a-9be4-3a6238a79536",
   "metadata": {},
   "outputs": [
    {
     "name": "stdout",
     "output_type": "stream",
     "text": [
      "root\n",
      " |-- pnl report: string (nullable = true)\n",
      " |-- report ccy: string (nullable = true)\n",
      " |-- v: string (nullable = true)\n",
      " |-- deal id: integer (nullable = true)\n",
      " |-- product: string (nullable = true)\n",
      " |-- deal ccy: string (nullable = true)\n",
      " |-- PV: double (nullable = true)\n",
      "\n"
     ]
    }
   ],
   "source": [
    "pvdf.printSchema()"
   ]
  },
  {
   "cell_type": "code",
   "execution_count": 6,
   "id": "1f877831-5bc4-49d7-9c0c-8d876c1103ef",
   "metadata": {},
   "outputs": [],
   "source": [
    "pvdf = pvdf.where(pvdf['report ccy'] == 'CCY')\n",
    "# as in https://sparkbyexamples.com/pyspark/pyspark-where-filter/"
   ]
  },
  {
   "cell_type": "code",
   "execution_count": 7,
   "id": "9f743cda-d3b7-4932-87da-a564e05f7955",
   "metadata": {},
   "outputs": [
    {
     "data": {
      "text/html": [
       "<div>\n",
       "<style scoped>\n",
       "    .dataframe tbody tr th:only-of-type {\n",
       "        vertical-align: middle;\n",
       "    }\n",
       "\n",
       "    .dataframe tbody tr th {\n",
       "        vertical-align: top;\n",
       "    }\n",
       "\n",
       "    .dataframe thead th {\n",
       "        text-align: right;\n",
       "    }\n",
       "</style>\n",
       "<table border=\"1\" class=\"dataframe\">\n",
       "  <thead>\n",
       "    <tr style=\"text-align: right;\">\n",
       "      <th></th>\n",
       "      <th>pnl report</th>\n",
       "      <th>report ccy</th>\n",
       "      <th>v</th>\n",
       "      <th>deal id</th>\n",
       "      <th>product</th>\n",
       "      <th>deal ccy</th>\n",
       "      <th>PV</th>\n",
       "    </tr>\n",
       "  </thead>\n",
       "  <tbody>\n",
       "    <tr>\n",
       "      <th>0</th>\n",
       "      <td>LDN desk CCY</td>\n",
       "      <td>CCY</td>\n",
       "      <td>v1</td>\n",
       "      <td>100</td>\n",
       "      <td>irs</td>\n",
       "      <td>GPB</td>\n",
       "      <td>1023.21</td>\n",
       "    </tr>\n",
       "    <tr>\n",
       "      <th>1</th>\n",
       "      <td>LDN desk CCY</td>\n",
       "      <td>CCY</td>\n",
       "      <td>v1</td>\n",
       "      <td>101</td>\n",
       "      <td>irs</td>\n",
       "      <td>USD</td>\n",
       "      <td>1012.54</td>\n",
       "    </tr>\n",
       "    <tr>\n",
       "      <th>2</th>\n",
       "      <td>SYD desk CCY</td>\n",
       "      <td>CCY</td>\n",
       "      <td>v1</td>\n",
       "      <td>202</td>\n",
       "      <td>repo</td>\n",
       "      <td>AUD</td>\n",
       "      <td>1012.98</td>\n",
       "    </tr>\n",
       "    <tr>\n",
       "      <th>3</th>\n",
       "      <td>NY desk CCY</td>\n",
       "      <td>CCY</td>\n",
       "      <td>v1</td>\n",
       "      <td>303</td>\n",
       "      <td>sfut</td>\n",
       "      <td>EUR</td>\n",
       "      <td>1022.15</td>\n",
       "    </tr>\n",
       "    <tr>\n",
       "      <th>4</th>\n",
       "      <td>LDN desk CCY</td>\n",
       "      <td>CCY</td>\n",
       "      <td>v2</td>\n",
       "      <td>100</td>\n",
       "      <td>irs</td>\n",
       "      <td>GPB</td>\n",
       "      <td>1023.76</td>\n",
       "    </tr>\n",
       "    <tr>\n",
       "      <th>5</th>\n",
       "      <td>LDN desk CCY</td>\n",
       "      <td>CCY</td>\n",
       "      <td>v2</td>\n",
       "      <td>102</td>\n",
       "      <td>irs</td>\n",
       "      <td>NZD</td>\n",
       "      <td>1021.24</td>\n",
       "    </tr>\n",
       "    <tr>\n",
       "      <th>6</th>\n",
       "      <td>SG desk CCY</td>\n",
       "      <td>CCY</td>\n",
       "      <td>v2</td>\n",
       "      <td>202</td>\n",
       "      <td>repo</td>\n",
       "      <td>AUD</td>\n",
       "      <td>1000.34</td>\n",
       "    </tr>\n",
       "    <tr>\n",
       "      <th>7</th>\n",
       "      <td>NY desk CCY</td>\n",
       "      <td>CCY</td>\n",
       "      <td>v2</td>\n",
       "      <td>303</td>\n",
       "      <td>sfut</td>\n",
       "      <td>EUR</td>\n",
       "      <td>1003.74</td>\n",
       "    </tr>\n",
       "  </tbody>\n",
       "</table>\n",
       "</div>"
      ],
      "text/plain": [
       "     pnl report report ccy   v  deal id product deal ccy       PV\n",
       "0  LDN desk CCY        CCY  v1      100     irs      GPB  1023.21\n",
       "1  LDN desk CCY        CCY  v1      101     irs      USD  1012.54\n",
       "2  SYD desk CCY        CCY  v1      202    repo      AUD  1012.98\n",
       "3   NY desk CCY        CCY  v1      303    sfut      EUR  1022.15\n",
       "4  LDN desk CCY        CCY  v2      100     irs      GPB  1023.76\n",
       "5  LDN desk CCY        CCY  v2      102     irs      NZD  1021.24\n",
       "6   SG desk CCY        CCY  v2      202    repo      AUD  1000.34\n",
       "7   NY desk CCY        CCY  v2      303    sfut      EUR  1003.74"
      ]
     },
     "execution_count": 7,
     "metadata": {},
     "output_type": "execute_result"
    }
   ],
   "source": [
    "pvdf.toPandas()"
   ]
  },
  {
   "cell_type": "code",
   "execution_count": 8,
   "id": "98f26150-c925-487c-b5a6-25f7ea1ce57d",
   "metadata": {},
   "outputs": [
    {
     "data": {
      "text/html": [
       "<div>\n",
       "<style scoped>\n",
       "    .dataframe tbody tr th:only-of-type {\n",
       "        vertical-align: middle;\n",
       "    }\n",
       "\n",
       "    .dataframe tbody tr th {\n",
       "        vertical-align: top;\n",
       "    }\n",
       "\n",
       "    .dataframe thead th {\n",
       "        text-align: right;\n",
       "    }\n",
       "</style>\n",
       "<table border=\"1\" class=\"dataframe\">\n",
       "  <thead>\n",
       "    <tr style=\"text-align: right;\">\n",
       "      <th></th>\n",
       "      <th>pnl report</th>\n",
       "      <th>v1</th>\n",
       "      <th>v2</th>\n",
       "    </tr>\n",
       "  </thead>\n",
       "  <tbody>\n",
       "    <tr>\n",
       "      <th>0</th>\n",
       "      <td>NY desk CCY</td>\n",
       "      <td>1022.15</td>\n",
       "      <td>1003.74</td>\n",
       "    </tr>\n",
       "    <tr>\n",
       "      <th>1</th>\n",
       "      <td>SG desk CCY</td>\n",
       "      <td>NaN</td>\n",
       "      <td>1000.34</td>\n",
       "    </tr>\n",
       "    <tr>\n",
       "      <th>2</th>\n",
       "      <td>SYD desk CCY</td>\n",
       "      <td>1012.98</td>\n",
       "      <td>NaN</td>\n",
       "    </tr>\n",
       "    <tr>\n",
       "      <th>3</th>\n",
       "      <td>LDN desk CCY</td>\n",
       "      <td>2035.75</td>\n",
       "      <td>2045.00</td>\n",
       "    </tr>\n",
       "  </tbody>\n",
       "</table>\n",
       "</div>"
      ],
      "text/plain": [
       "     pnl report       v1       v2\n",
       "0   NY desk CCY  1022.15  1003.74\n",
       "1   SG desk CCY      NaN  1000.34\n",
       "2  SYD desk CCY  1012.98      NaN\n",
       "3  LDN desk CCY  2035.75  2045.00"
      ]
     },
     "execution_count": 8,
     "metadata": {},
     "output_type": "execute_result"
    }
   ],
   "source": [
    "pvdf.groupBy('pnl report').pivot(\"v\").sum(\"PV\").toPandas()\n",
    "# as in https://sparkbyexamples.com/pyspark/pyspark-pivot-and-unpivot-dataframe/"
   ]
  },
  {
   "cell_type": "code",
   "execution_count": 14,
   "id": "14cfabc6-6a2a-4a07-8d07-3ea9f8dedc48",
   "metadata": {},
   "outputs": [],
   "source": [
    "scope_pddf = pd.DataFrame({\n",
    "                    'product': ['irs','fra','lfut','repo'],\n",
    "                    'take': [True,False,False,False]\n",
    "                    })\n",
    " \n",
    "scope_psdf = spark.createDataFrame(scope_pddf)\n",
    "\n",
    "# as in https://www.geeksforgeeks.org/creating-a-pyspark-dataframe/ "
   ]
  },
  {
   "cell_type": "code",
   "execution_count": 15,
   "id": "67a9d821-6f1f-47d2-9b15-c8212163c0db",
   "metadata": {},
   "outputs": [],
   "source": [
    "scope_psdf = scope_psdf.where(scope_psdf['take'])"
   ]
  },
  {
   "cell_type": "code",
   "execution_count": 17,
   "id": "8d13f5c7-e585-4648-af8e-407d144ffce1",
   "metadata": {},
   "outputs": [
    {
     "name": "stdout",
     "output_type": "stream",
     "text": [
      "+-------+----+\n",
      "|product|take|\n",
      "+-------+----+\n",
      "|    irs|true|\n",
      "+-------+----+\n",
      "\n"
     ]
    }
   ],
   "source": [
    "scope_psdf.show()"
   ]
  },
  {
   "cell_type": "code",
   "execution_count": 18,
   "id": "bb288476-ea52-47e5-935d-3980e0ca67b8",
   "metadata": {},
   "outputs": [
    {
     "data": {
      "text/html": [
       "<div>\n",
       "<style scoped>\n",
       "    .dataframe tbody tr th:only-of-type {\n",
       "        vertical-align: middle;\n",
       "    }\n",
       "\n",
       "    .dataframe tbody tr th {\n",
       "        vertical-align: top;\n",
       "    }\n",
       "\n",
       "    .dataframe thead th {\n",
       "        text-align: right;\n",
       "    }\n",
       "</style>\n",
       "<table border=\"1\" class=\"dataframe\">\n",
       "  <thead>\n",
       "    <tr style=\"text-align: right;\">\n",
       "      <th></th>\n",
       "      <th>pnl report</th>\n",
       "      <th>v1</th>\n",
       "      <th>v2</th>\n",
       "    </tr>\n",
       "  </thead>\n",
       "  <tbody>\n",
       "    <tr>\n",
       "      <th>0</th>\n",
       "      <td>LDN desk CCY</td>\n",
       "      <td>2035.75</td>\n",
       "      <td>2045.0</td>\n",
       "    </tr>\n",
       "  </tbody>\n",
       "</table>\n",
       "</div>"
      ],
      "text/plain": [
       "     pnl report       v1      v2\n",
       "0  LDN desk CCY  2035.75  2045.0"
      ]
     },
     "execution_count": 18,
     "metadata": {},
     "output_type": "execute_result"
    }
   ],
   "source": [
    "pvdf.join(other=scope_psdf,on='product',how='inner').groupBy('pnl report').pivot(\"v\").sum(\"PV\").toPandas()"
   ]
  },
  {
   "cell_type": "code",
   "execution_count": null,
   "id": "618ff791-ffd0-45c3-8acc-40288d51e0f5",
   "metadata": {},
   "outputs": [],
   "source": []
  }
 ],
 "metadata": {
  "kernelspec": {
   "display_name": "Python 3 (ipykernel)",
   "language": "python",
   "name": "python3"
  },
  "language_info": {
   "codemirror_mode": {
    "name": "ipython",
    "version": 3
   },
   "file_extension": ".py",
   "mimetype": "text/x-python",
   "name": "python",
   "nbconvert_exporter": "python",
   "pygments_lexer": "ipython3",
   "version": "3.9.12"
  }
 },
 "nbformat": 4,
 "nbformat_minor": 5
}
